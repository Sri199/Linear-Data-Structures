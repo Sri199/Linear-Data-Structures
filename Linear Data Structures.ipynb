{
 "cells": [
  {
   "cell_type": "markdown",
   "id": "37b88734",
   "metadata": {},
   "source": [
    "# Linear Data Structures"
   ]
  },
  {
   "cell_type": "markdown",
   "id": "7b0007d7",
   "metadata": {},
   "source": [
    "# 1.Sum of Array Pair Equal to given number"
   ]
  },
  {
   "cell_type": "code",
   "execution_count": null,
   "id": "04cc8b77",
   "metadata": {},
   "outputs": [],
   "source": [
    "def find_pairs(array, target_sum):\n",
    "    arr_pairs = []\n",
    "    set_pair= set()\n",
    "\n",
    "    for num in array:\n",
    "        count = target_sum - num\n",
    "        if count in set_pair:\n",
    "            arr_pairs.append((num, count))\n",
    "        set_pair.add(num)\n",
    "\n",
    "    return arr_pairs\n",
    "\n",
    "arr = list(map(int, input(\"Enter the numbers in array: \").split()))\n",
    "target = int(input(\"Enter target sum: \"))\n",
    "result = find_pairs(arr, target)\n",
    "if len(result) > 0:\n",
    "    print(\"Pairs with a sum of\", target, \":\")\n",
    "    for pair in result:\n",
    "        print(pair)\n",
    "else:\n",
    "    print(\"No pairs found with a sum of\", target)"
   ]
  },
  {
   "cell_type": "markdown",
   "id": "e792eba6",
   "metadata": {},
   "source": [
    "# 2.Reversing an Array"
   ]
  },
  {
   "cell_type": "code",
   "execution_count": null,
   "id": "871da5a7",
   "metadata": {},
   "outputs": [],
   "source": [
    "def reverse_array(arr):\n",
    "    start = 0\n",
    "    end = len(arr) - 1\n",
    "\n",
    "    while start < end:\n",
    "        arr[start], arr[end] = arr[end], arr[start]\n",
    "        start += 1\n",
    "        end -= 1\n",
    "\n",
    "array = list(map(int,input(\"Enter array values: \").split()))\n",
    "reverse_array(array)\n",
    "print(\"Reversed array:\", array)"
   ]
  },
  {
   "cell_type": "markdown",
   "id": "22d59f35",
   "metadata": {},
   "source": [
    "# 3.String Rotation\n"
   ]
  },
  {
   "cell_type": "code",
   "execution_count": null,
   "id": "4084e3e0",
   "metadata": {},
   "outputs": [],
   "source": [
    "def rotation(str1, str2):\n",
    "    if len(str1) != len(str2):\n",
    "        return False\n",
    "\n",
    "    concatenated = str1 + str1\n",
    "    if str2 in concatenated:\n",
    "        return True\n",
    "\n",
    "    return False\n",
    "\n",
    "string1 = input(\"Enter first string: \")\n",
    "string2 = input(\"Enter second string: \")\n",
    "if rotation(string1, string2):\n",
    "    print(\"Strings are rotations of each other\")\n",
    "else:\n",
    "    print(\"Strings are not rotations of each other\")"
   ]
  },
  {
   "cell_type": "markdown",
   "id": "deb8e713",
   "metadata": {},
   "source": [
    "# 4.Non repeated character from string"
   ]
  },
  {
   "cell_type": "code",
   "execution_count": null,
   "id": "8ce9bd17",
   "metadata": {},
   "outputs": [],
   "source": [
    "def nonrepeatcharacter(string):\n",
    "    char_count = {}\n",
    "    \n",
    "    for char in string:\n",
    "        if char in char_count:\n",
    "            char_count[char] += 1\n",
    "        else:\n",
    "            char_count[char] = 1\n",
    "\n",
    "    for char in string:\n",
    "        if char_count[char] == 1:\n",
    "            return char\n",
    "    return None\n",
    "\n",
    "input_string = input(\"Enter a string: \")\n",
    "result = nonrepeatcharacter(input_string)\n",
    "\n",
    "if result:\n",
    "    print(\"First non-repeated character:\", result)\n",
    "else:\n",
    "    print(\"No non-repeated characters found in the string.\")"
   ]
  },
  {
   "cell_type": "markdown",
   "id": "5d1a86ac",
   "metadata": {},
   "source": [
    "# 5.Tower of Honai"
   ]
  },
  {
   "cell_type": "code",
   "execution_count": null,
   "id": "210a03f8",
   "metadata": {},
   "outputs": [],
   "source": [
    "def tower_of_hanoi(n, source, auxiliary, destination):\n",
    "    if n == 1:\n",
    "        print(\"Move disk 1 from\", source, \"to\", destination)\n",
    "        return\n",
    "    \n",
    "    tower_of_hanoi(n - 1, source, destination, auxiliary)\n",
    "    print(\"Move disk\", n, \"from\", source, \"to\", destination)\n",
    "    tower_of_hanoi(n - 1, auxiliary, source, destination)\n",
    "\n",
    "num_disks = int(input(\"Enter the number of disks: \"))\n",
    "tower_of_hanoi(num_disks, 'A', 'B', 'C')"
   ]
  },
  {
   "cell_type": "markdown",
   "id": "77d6ccae",
   "metadata": {},
   "source": [
    "# 6.Postfix to Prefix"
   ]
  },
  {
   "cell_type": "code",
   "execution_count": null,
   "id": "1664926f",
   "metadata": {},
   "outputs": [],
   "source": [
    "def is_operator(char):\n",
    "    operators = ['+', '-', '*', '/']\n",
    "    if char in operators:\n",
    "        return True\n",
    "    return False\n",
    "\n",
    "def postfix_to_prefix(postfix):\n",
    "    stack = []\n",
    "\n",
    "    for char in postfix:\n",
    "        if is_operator(char):\n",
    "            operand2 = stack.pop()\n",
    "            operand1 = stack.pop()\n",
    "            prefix_expression = char + operand1 + operand2\n",
    "            stack.append(prefix_expression)\n",
    "        else:\n",
    "            stack.append(char)\n",
    "    return stack.pop()\n",
    "\n",
    "postfix_expression = input(\"Enter the postfix expression: \")\n",
    "prefix_expression = postfix_to_prefix(postfix_expression)\n",
    "print(\"Prefix expression:\", prefix_expression)"
   ]
  },
  {
   "cell_type": "markdown",
   "id": "ae6b80c3",
   "metadata": {},
   "source": [
    "# 7.Prefix to Infinix\n"
   ]
  },
  {
   "cell_type": "code",
   "execution_count": null,
   "id": "d395972f",
   "metadata": {},
   "outputs": [],
   "source": [
    "def is_operator(char):\n",
    "    operators = ['+', '-', '*', '/']\n",
    "    if char in operators:\n",
    "        return True\n",
    "    return False\n",
    "\n",
    "def prefix_to_infix(prefix):\n",
    "    stack = []\n",
    "\n",
    "    for char in reversed(prefix):\n",
    "        if is_operator(char):\n",
    "            operand1 = stack.pop()\n",
    "            operand2 = stack.pop()\n",
    "            infix_expression = \"(\" + operand1 + char + operand2 + \")\"\n",
    "            stack.append(infix_expression)\n",
    "        else:\n",
    "            stack.append(char)\n",
    "    \n",
    "    return stack.pop()\n",
    "\n",
    "prefix_expression = input(\"Enter the prefix expression: \")\n",
    "infix_expression = prefix_to_infix(prefix_expression)\n",
    "print(\"Infix expression:\", infix_expression)"
   ]
  },
  {
   "cell_type": "markdown",
   "id": "4fd7bc9d",
   "metadata": {},
   "source": [
    "# 8.Brackets Check"
   ]
  },
  {
   "cell_type": "code",
   "execution_count": null,
   "id": "3b10459c",
   "metadata": {},
   "outputs": [],
   "source": [
    "def brackets(code):\n",
    "    stack = []\n",
    "    opening_brackets = [\"(\", \"{\", \"[\"]\n",
    "    closing_brackets = [\")\", \"}\", \"]\"]\n",
    "\n",
    "    for char in code:\n",
    "        if char in opening_brackets:\n",
    "            stack.append(char)\n",
    "        elif char in closing_brackets:\n",
    "            if not stack:\n",
    "                return False\n",
    "            top_bracket = stack.pop()\n",
    "            if opening_brackets.index(top_bracket) != closing_brackets.index(char):\n",
    "                return False\n",
    "\n",
    "    return len(stack) == 0\n",
    "\n",
    "code_snippet = input(\"Enter the code snippet: \")\n",
    "if brackets(code_snippet):\n",
    "    print(\"All brackets are closed.\")\n",
    "else:\n",
    "    print(\"Brackets are not closed.\")"
   ]
  },
  {
   "cell_type": "markdown",
   "id": "51ddb753",
   "metadata": {},
   "source": [
    "# 9.Reversing a Stack\n"
   ]
  },
  {
   "cell_type": "code",
   "execution_count": null,
   "id": "40db5309",
   "metadata": {},
   "outputs": [],
   "source": [
    "class Stack:\n",
    "    def __init__(self):\n",
    "        self.items = []\n",
    "\n",
    "    def push(self, item):\n",
    "        self.items.append(item)\n",
    "\n",
    "    def pop(self):\n",
    "        if not self.is_empty():\n",
    "            return self.items.pop()\n",
    "\n",
    "    def is_empty(self):\n",
    "        return len(self.items) == 0\n",
    "\n",
    "    def size(self):\n",
    "        return len(self.items)\n",
    "\n",
    "    def reverse(self):\n",
    "        if not self.is_empty():\n",
    "            item = self.pop()\n",
    "            self.reverse()\n",
    "            self.insert_at_bottom(item)\n",
    "\n",
    "    def insert_at_bottom(self, item):\n",
    "        if self.is_empty():\n",
    "            self.push(item)\n",
    "        else:\n",
    "            temp = self.pop()\n",
    "            self.insert_at_bottom(item)\n",
    "            self.push(temp)\n",
    "\n",
    "stack = Stack()\n",
    "stack.push(1)\n",
    "stack.push(2)\n",
    "stack.push(3)\n",
    "stack.push(4)\n",
    "\n",
    "print(\"Original Stack:\", stack.items)\n",
    "stack.reverse()\n",
    "print(\"Reversed Stack:\", stack.items)"
   ]
  },
  {
   "cell_type": "markdown",
   "id": "2c178351",
   "metadata": {},
   "source": [
    "# 10.Smallest Number\n"
   ]
  },
  {
   "cell_type": "code",
   "execution_count": null,
   "id": "0f73c1a8",
   "metadata": {},
   "outputs": [],
   "source": [
    "class Stack:\n",
    "    def __init__(self):\n",
    "        self.items = []\n",
    "        self.min_stack = []\n",
    "\n",
    "    def push(self, item):\n",
    "        self.items.append(item)\n",
    "        if not self.min_stack or item <= self.min_stack[-1]:\n",
    "            self.min_stack.append(item)\n",
    "\n",
    "    def pop(self):\n",
    "        if not self.is_empty():\n",
    "            item = self.items.pop()\n",
    "            if item == self.min_stack[-1]:\n",
    "                self.min_stack.pop()\n",
    "            return item\n",
    "\n",
    "    def is_empty(self):\n",
    "        return len(self.items) == 0\n",
    "\n",
    "    def size(self):\n",
    "        return len(self.items)\n",
    "\n",
    "    def get_smallest(self):\n",
    "        if not self.is_empty():\n",
    "            return self.min_stack[-1]\n",
    "\n",
    "stack = Stack()\n",
    "stack.push(5)\n",
    "stack.push(2)\n",
    "stack.push(8)\n",
    "stack.push(1)\n",
    "stack.push(3)\n",
    "\n",
    "print(\"Smallest number:\", stack.get_smallest())"
   ]
  }
 ],
 "metadata": {
  "kernelspec": {
   "display_name": "Python 3 (ipykernel)",
   "language": "python",
   "name": "python3"
  },
  "language_info": {
   "codemirror_mode": {
    "name": "ipython",
    "version": 3
   },
   "file_extension": ".py",
   "mimetype": "text/x-python",
   "name": "python",
   "nbconvert_exporter": "python",
   "pygments_lexer": "ipython3",
   "version": "3.9.13"
  }
 },
 "nbformat": 4,
 "nbformat_minor": 5
}
